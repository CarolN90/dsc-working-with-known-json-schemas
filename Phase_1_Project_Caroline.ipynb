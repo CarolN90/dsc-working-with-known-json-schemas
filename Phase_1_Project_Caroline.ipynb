{
 "cells": [
  {
   "cell_type": "markdown",
   "metadata": {},
   "source": [
    "# PHASE 1 - END OF PHASE PROJECT\n",
    "\n",
    "## Aviation Data and Its Use in Business Decision Making\n",
    "\n",
    "Name:  Caroline Njeri Wachira\n",
    "\n",
    "Class: DSF-12 FT\n",
    "\n",
    "Moringa School\n",
    "\n",
    "TM: Diana Mong'ina"
   ]
  },
  {
   "cell_type": "markdown",
   "metadata": {},
   "source": [
    "Checklist:\n",
    "Introduction\n",
    "Problem Statement\n",
    "Objectives and Specific objectives\n",
    "Data Understanding\n",
    "Visualization Insighs\n",
    "Recommendations\n",
    "Conclusion"
   ]
  },
  {
   "cell_type": "markdown",
   "metadata": {},
   "source": [
    "## Introduction\n",
    "\n",
    "Air transportation service is the transportation of cargo, people, amil from one place to another via air by an aircraft. It is the fastest mode of trasport and has evolved over the years since the Wright brothers first flight to the development of commercial air travel.\n",
    "\n",
    "There are three factors that enable airlines hold on to the market: Safety, Service Quality, and Price. Safety is an indispensable factor in avaiation. The data gives us a list of incidents and accidents that have happened over the years, their causes, types of aircraft, and circumstances in which they occured. In this case, we will take a reactive approach to derive learnings from accidents and incidents that have happened in the past in the airline sector to inform our business decisions moving forward. "
   ]
  },
  {
   "cell_type": "markdown",
   "metadata": {},
   "source": [
    "## Problem Statement\n",
    "\n",
    "Plane crach investigations never stop at the primary cause of the crash. An investigation of the series of failures and missed opportunities that led to the accident is important. This is critical for businesses to be able to identify and forecast existing and future challenges that may occur. \n",
    "\n",
    "Air travel is a sensitive mode of travel since any mistake that involves communication errors, weather, pilots, mechanical issues, misinterpretation of a situation, lack of training, and overlooking of basics could be fatal. \n",
    "\n",
    "We will analyze the different failures in aircrafts and the impact in terms of fatalities and how we can use data to avoid the recurrence of similar incidences in the future.\n",
    "\n",
    "Aircraft businesses need to use this historical data to identify the main causes of accidents/incidents, models that are safer to fly, improve working environments to avoid pilot errors due to fatigue, ensure proper training of airport staff, and use of proper and up to date parts and equipment."
   ]
  },
  {
   "cell_type": "markdown",
   "metadata": {},
   "source": [
    "## Objectives\n",
    "\n",
    "Main Objective:\n",
    "\n",
    "Develop insights into the best make of aircraft to purchase for safe air travel\n",
    "\n",
    "Specific Objectives:\n",
    "1. Investigate the make of the aircraft versus the accident count\n",
    "2. Investigate the make of the aircraft versus the level of damage\n",
    "3. Investigate the make of the aircraft versus total uninjured"
   ]
  },
  {
   "cell_type": "markdown",
   "metadata": {},
   "source": [
    "## Description of Dataset\n",
    "\n",
    "Our Dataset is obtained from the NTSB aviation accident database contains information from 1962 and later about civil aviation accidents and selected incidents within the United States, its territories and possessions, and in international waters. It comes in a single data sheet and consists of 33 columns describing details about recorded aviation accidents."
   ]
  },
  {
   "cell_type": "markdown",
   "metadata": {},
   "source": []
  }
 ],
 "metadata": {
  "kernelspec": {
   "display_name": "Python (learn-env)",
   "language": "python",
   "name": "learn-env"
  },
  "language_info": {
   "codemirror_mode": {
    "name": "ipython",
    "version": 3
   },
   "file_extension": ".py",
   "mimetype": "text/x-python",
   "name": "python",
   "nbconvert_exporter": "python",
   "pygments_lexer": "ipython3",
   "version": "3.8.5"
  }
 },
 "nbformat": 4,
 "nbformat_minor": 4
}
